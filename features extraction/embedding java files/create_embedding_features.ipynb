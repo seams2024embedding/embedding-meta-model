{
 "cells": [
  {
   "cell_type": "code",
   "execution_count": null,
   "id": "7bb9fad8-7b80-4333-adad-03b01c1547bc",
   "metadata": {},
   "outputs": [],
   "source": [
    "import os\n",
    "import pickle\n",
    "import pandas as pd\n",
    "import numpy as np\n",
    "from sklearn.decomposition import PCA, KernelPCA\n",
    "from config import *\n",
    "import torch"
   ]
  },
  {
   "cell_type": "code",
   "execution_count": null,
   "id": "d5d2c087-8e74-4ba3-a102-c9b92c595efd",
   "metadata": {
    "tags": []
   },
   "outputs": [],
   "source": [
    "projects = {}\n",
    "for folder in sorted(os.listdir(JAVA_FILES_PATH)):\n",
    "    if '.csv' in folder or '.ipynb' in folder or '.txt' in folder or folder in projects_to_exclude: continue\n",
    "    folder_path = JAVA_FILES_PATH + \"/\" + folder\n",
    "    for version in sorted(os.listdir(folder_path),reverse=True):\n",
    "        if '.ipynb' in version: continue\n",
    "        version_representation = []\n",
    "        version_path = folder_path + \"/\" + version\n",
    "        pickle_path = version_path + f\"/{OUTPUT_PATH}\"\n",
    "        for pickle_file in os.listdir(pickle_path):\n",
    "            file = open(pickle_path + \"/\" + pickle_file,'rb')\n",
    "            p = pickle.load(file)\n",
    "            np_array = p.cpu().detach().numpy().flatten()\n",
    "            version_representation.append(np_array)\n",
    "        if version_representation == []:\n",
    "            continue\n",
    "        df = pd.DataFrame(version_representation)\n",
    "        projects[folder+\"_\"+version] = df.mean()"
   ]
  },
  {
   "cell_type": "code",
   "execution_count": null,
   "id": "aef42a0f-9c67-46e4-9d03-2445340378a5",
   "metadata": {},
   "outputs": [],
   "source": [
    "db = pd.DataFrame(projects).T\n",
    "features = db.fillna(0)\n",
    "features = features.reset_index()\n",
    "features['pv'] = features['index']\n",
    "features = features.drop(columns=['index'])\n",
    "features.set_index('pv',inplace=True)\n",
    "features.to_csv(OUTPUT_EMBEDDING_FEATURES)"
   ]
  }
 ],
 "metadata": {
  "kernelspec": {
   "display_name": "Python 3 (ipykernel)",
   "language": "python",
   "name": "python3"
  },
  "language_info": {
   "codemirror_mode": {
    "name": "ipython",
    "version": 3
   },
   "file_extension": ".py",
   "mimetype": "text/x-python",
   "name": "python",
   "nbconvert_exporter": "python",
   "pygments_lexer": "ipython3",
   "version": "3.10.9"
  }
 },
 "nbformat": 4,
 "nbformat_minor": 5
}
